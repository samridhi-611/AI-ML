{
 "cells": [
  {
   "cell_type": "markdown",
   "metadata": {},
   "source": [
    "# Q1"
   ]
  },
  {
   "cell_type": "code",
   "execution_count": 23,
   "metadata": {},
   "outputs": [
    {
     "name": "stdout",
     "output_type": "stream",
     "text": [
      "Intersection of the lists: ['3', '1', '5', '2', '4']\n"
     ]
    }
   ],
   "source": [
    "def merge_lists(list1, list2):\n",
    "   \n",
    "    set1 = set(list1)\n",
    "    set2 = set(list2)\n",
    " \n",
    "    merge_sets = set1.union(set2)\n",
    "   \n",
    "    return list(merge_sets)\n",
    "\n",
    "\n",
    "list1 = list(input('Enter list 1 :'))\n",
    "list2 = list(input('Enter list 2 :'))\n",
    "merged_list = merge_lists(list1, list2)\n",
    "print(\"Merging of the lists:\", merged_list)\n"
   ]
  },
  {
   "cell_type": "markdown",
   "metadata": {},
   "source": [
    "# Q2"
   ]
  },
  {
   "cell_type": "code",
   "execution_count": 21,
   "metadata": {},
   "outputs": [
    {
     "name": "stdout",
     "output_type": "stream",
     "text": [
      "Intersection of the lists: ['4']\n"
     ]
    }
   ],
   "source": [
    "def list_intersection(list1, list2):\n",
    "  \n",
    "    set1 = set(list1)\n",
    "    set2 = set(list2)\n",
    "    \n",
    "    intersection_set = set1.intersection(set2)\n",
    "  \n",
    "    return list(intersection_set)\n",
    "\n",
    "\n",
    "list1 = list(input('Enter list 1 :'))\n",
    "list2 = list(input('Enter list 2 :'))\n",
    "intersection_list = list_intersection(list1, list2)\n",
    "print(\"Intersection of the lists:\", intersection_list)\n"
   ]
  }
 ],
 "metadata": {
  "kernelspec": {
   "display_name": "Python 3",
   "language": "python",
   "name": "python3"
  },
  "language_info": {
   "codemirror_mode": {
    "name": "ipython",
    "version": 3
   },
   "file_extension": ".py",
   "mimetype": "text/x-python",
   "name": "python",
   "nbconvert_exporter": "python",
   "pygments_lexer": "ipython3",
   "version": "3.12.3"
  }
 },
 "nbformat": 4,
 "nbformat_minor": 2
}
