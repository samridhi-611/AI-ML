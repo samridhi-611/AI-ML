{
 "cells": [
  {
   "cell_type": "code",
   "execution_count": 25,
   "metadata": {},
   "outputs": [
    {
     "name": "stdout",
     "output_type": "stream",
     "text": [
      "BEFORE:\n",
      "[[30 83 82  3 27]\n",
      " [21  9  4 83 65]\n",
      " [38 52 32 49 11]\n",
      " [80 66  7 26 70]\n",
      " [85 28  9 46 89]\n",
      " [66 99  8 79 54]\n",
      " [44 42 89 30 41]\n",
      " [87 63 89 87 24]\n",
      " [87 90 32 16 63]\n",
      " [40 54 15 42 64]\n",
      " [30 36 51 69 72]\n",
      " [26 41 64 43 21]]\n",
      "AFTER:\n",
      "[[30 83 82  3 27]\n",
      " [21  9  4 83 65]\n",
      " [38 52 32 49 11]\n",
      " [80 66  7 26 70]\n",
      " [85 28  9 46 89]\n",
      " [66 99  8 79 54]\n",
      " [44 42 89 30 41]\n",
      " [87 63 89 87 24]\n",
      " [87 90 32 16 63]\n",
      " [40 54 15 42 64]\n",
      " [30 36 51 69 72]\n",
      " [ 1  2  3  4  5]]\n"
     ]
    }
   ],
   "source": [
    "#QUESTION 1\n",
    "import numpy as np\n",
    "print(\"BEFORE:\")\n",
    "arr=np.random.randint(1,100,60)\n",
    "array=arr.reshape(12,5)\n",
    "print(array)\n",
    "lst=[-5,-4,-3,-2,-1]\n",
    "j=1\n",
    "for i in lst:\n",
    "    arr[i]=j\n",
    "    j+=1\n",
    "print(\"AFTER:\")\n",
    "print(arr.reshape(12,5))"
   ]
  },
  {
   "cell_type": "code",
   "execution_count": 23,
   "metadata": {},
   "outputs": [
    {
     "name": "stdout",
     "output_type": "stream",
     "text": [
      "[[18 10 33 14  2]\n",
      " [29 73 49 32 22]\n",
      " [68 64 12 69 66]\n",
      " [80 34 54 15 34]\n",
      " [18 81 71  8 67]\n",
      " [89 53 33 67 26]\n",
      " [22 20 57 11 97]\n",
      " [98 64 46 44 45]\n",
      " [80 24 12 39 55]\n",
      " [47 29 31 32 62]\n",
      " [47 42  3 45  6]\n",
      " [90 69 45 99 15]]\n",
      "max in row 0 is: 33\n",
      "min in row 0 is: 2\n",
      "max in row 0 is: 73\n",
      "min in row 0 is: 22\n",
      "max in row 0 is: 69\n",
      "min in row 0 is: 12\n",
      "max in row 0 is: 80\n",
      "min in row 0 is: 15\n",
      "max in row 0 is: 81\n",
      "min in row 0 is: 8\n",
      "max in row 0 is: 89\n",
      "min in row 0 is: 26\n",
      "max in row 0 is: 97\n",
      "min in row 0 is: 11\n",
      "max in row 0 is: 98\n",
      "min in row 0 is: 44\n",
      "max in row 0 is: 80\n",
      "min in row 0 is: 12\n",
      "max in row 0 is: 62\n",
      "min in row 0 is: 29\n",
      "max in row 0 is: 47\n",
      "min in row 0 is: 3\n",
      "max in row 0 is: 99\n",
      "min in row 0 is: 15\n"
     ]
    }
   ],
   "source": [
    "# QUESTION 2\n",
    "import numpy as np\n",
    "arr=np.random.randint(1,100,60)\n",
    "array=arr.reshape(12,5)\n",
    "print(array)\n",
    "i=0\n",
    "for row in array:\n",
    "    print(\"max in row\",i,\"is:\",max(row))\n",
    "    print(\"min in row\",i,\"is:\",min(row))"
   ]
  },
  {
   "cell_type": "code",
   "execution_count": null,
   "metadata": {},
   "outputs": [],
   "source": []
  }
 ],
 "metadata": {
  "kernelspec": {
   "display_name": "Python 3",
   "language": "python",
   "name": "python3"
  },
  "language_info": {
   "codemirror_mode": {
    "name": "ipython",
    "version": 3
   },
   "file_extension": ".py",
   "mimetype": "text/x-python",
   "name": "python",
   "nbconvert_exporter": "python",
   "pygments_lexer": "ipython3",
   "version": "3.11.9"
  }
 },
 "nbformat": 4,
 "nbformat_minor": 2
}
