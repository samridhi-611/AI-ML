{
 "cells": [
  {
   "cell_type": "code",
   "execution_count": 13,
   "metadata": {},
   "outputs": [
    {
     "name": "stdout",
     "output_type": "stream",
     "text": [
      "factorial of 5 is 120\n"
     ]
    }
   ],
   "source": [
    "#QUESTION 1\n",
    "def factorial(n1):\n",
    "    if(n1==1):\n",
    "        return 1\n",
    "    else:\n",
    "        return n1*factorial(n1-1)\n",
    "n=int(input(\"enter a number:\"))\n",
    "fact=factorial(n)\n",
    "print(\"factorial of\",n,\"is\",fact)"
   ]
  },
  {
   "cell_type": "code",
   "execution_count": 15,
   "metadata": {},
   "outputs": [
    {
     "name": "stdout",
     "output_type": "stream",
     "text": [
      "2\n",
      "2\n",
      "4\n"
     ]
    }
   ],
   "source": [
    "#QUESTION 2\n",
    "import os\n",
    "file=open(\"text.txt\",\"r\")\n",
    "data=file.read()\n",
    "file.close()\n",
    "l=data.split(\"\\n\")\n",
    "for i in l:\n",
    "    print(len(i.split(\" \")))\n"
   ]
  },
  {
   "cell_type": "code",
   "execution_count": 16,
   "metadata": {},
   "outputs": [
    {
     "name": "stdout",
     "output_type": "stream",
     "text": [
      "minimum in the list is 9\n",
      "maximum in the list is 444\n"
     ]
    }
   ],
   "source": [
    "# QUESTION 3\n",
    "def maximum(lst):\n",
    "    max=lst[0]\n",
    "    for i in lst:\n",
    "        if(i>max):\n",
    "            max=i\n",
    "    return max\n",
    "def minimum(lst):\n",
    "    min=lst[0]\n",
    "    for i in lst:\n",
    "        if(i<min):\n",
    "            min=i\n",
    "    return min\n",
    "lst=[22,444,33,90,11,67,9]\n",
    "mini=minimum(lst)\n",
    "maxi=maximum(lst)\n",
    "print(\"minimum in the list is\",mini)\n",
    "print(\"maximum in the list is\",maxi)\n"
   ]
  },
  {
   "cell_type": "code",
   "execution_count": 17,
   "metadata": {},
   "outputs": [
    {
     "name": "stdout",
     "output_type": "stream",
     "text": [
      "word with maximum length is: abhilasha\n"
     ]
    }
   ],
   "source": [
    "#QUESTION 4\n",
    "lst=['samridhi','aditi','khushi','abhilasha']\n",
    "max=len(lst[0])\n",
    "for i in lst:\n",
    "    if(max<len(i)):\n",
    "        max = len(i)\n",
    "        word=i\n",
    "print(\"word with maximum length is:\",word)"
   ]
  }
 ],
 "metadata": {
  "kernelspec": {
   "display_name": "Python 3",
   "language": "python",
   "name": "python3"
  },
  "language_info": {
   "codemirror_mode": {
    "name": "ipython",
    "version": 3
   },
   "file_extension": ".py",
   "mimetype": "text/x-python",
   "name": "python",
   "nbconvert_exporter": "python",
   "pygments_lexer": "ipython3",
   "version": "3.12.3"
  }
 },
 "nbformat": 4,
 "nbformat_minor": 2
}
