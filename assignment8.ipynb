{
 "cells": [
  {
   "cell_type": "code",
   "execution_count": 7,
   "metadata": {},
   "outputs": [
    {
     "name": "stdout",
     "output_type": "stream",
     "text": [
      "ARRAY:\n",
      "[[36 62 20 31 33]\n",
      " [ 7 78 11 35 72]\n",
      " [23 91  2 13  7]\n",
      " [99 72 46 24 28]\n",
      " [83  2  2 38 62]\n",
      " [53 75  8 47 51]\n",
      " [80 83  1 46 65]\n",
      " [92 31 97 16 27]\n",
      " [69 82 11 84 11]\n",
      " [15 42 35 40 61]\n",
      " [24  5 51 29 19]\n",
      " [ 9  8 63 98 50]]\n",
      "MIN IN THE ARRAY IS : 1\n",
      "MAX IN THE ARRAY IS: 99\n",
      "AVERAGE OF THE ARRAY IS: 42.583333333333336\n",
      "NO. OF EVENS IN THE LAST ROW IS: 3\n"
     ]
    }
   ],
   "source": [
    "#QUESTION 1\n",
    "import numpy as np\n",
    "def func(array):\n",
    "    print(\"MIN IN THE ARRAY IS :\",array.min())\n",
    "    print(\"MAX IN THE ARRAY IS:\",array.max())\n",
    "    print(\"AVERAGE OF THE ARRAY IS:\",array.mean())\n",
    "    count=0\n",
    "    for i in array[11]:\n",
    "        if(i%2==0):\n",
    "            count+=1\n",
    "    print(\"NO. OF EVENS IN THE LAST ROW IS:\",count)\n",
    "arr=np.random.randint(1,100,60)\n",
    "arr1=arr.reshape(12,5)\n",
    "print(\"ARRAY:\")\n",
    "print(arr1)\n",
    "func(arr1)\n"
   ]
  },
  {
   "cell_type": "code",
   "execution_count": 15,
   "metadata": {},
   "outputs": [
    {
     "name": "stdout",
     "output_type": "stream",
     "text": [
      "[[1 2 3]\n",
      " [4 5 6]\n",
      " [7 8 9]]\n",
      "after slicing\n",
      "[[3 2 1]\n",
      " [6 5 4]\n",
      " [9 8 7]]\n"
     ]
    }
   ],
   "source": [
    "#QUESTION 2\n",
    "array1=np.array([[1,2,3],[4,5,6],[7,8,9]])\n",
    "print(array1)\n",
    "print(\"after slicing\")\n",
    "print(array1[0:,-1::-1])"
   ]
  }
 ],
 "metadata": {
  "kernelspec": {
   "display_name": "Python 3",
   "language": "python",
   "name": "python3"
  },
  "language_info": {
   "codemirror_mode": {
    "name": "ipython",
    "version": 3
   },
   "file_extension": ".py",
   "mimetype": "text/x-python",
   "name": "python",
   "nbconvert_exporter": "python",
   "pygments_lexer": "ipython3",
   "version": "3.11.9"
  }
 },
 "nbformat": 4,
 "nbformat_minor": 2
}
