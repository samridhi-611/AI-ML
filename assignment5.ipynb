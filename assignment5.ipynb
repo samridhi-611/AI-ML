{
 "cells": [
  {
   "cell_type": "code",
   "execution_count": 19,
   "metadata": {},
   "outputs": [
    {
     "name": "stdout",
     "output_type": "stream",
     "text": [
      "area of circle is : 28.259999999999998\n"
     ]
    }
   ],
   "source": [
    "class claculate_area:\n",
    "    def __init__(self,radius):\n",
    "        self.r=radius\n",
    "    def circle(self):\n",
    "        area = 3.14*self.r*self.r\n",
    "        return area\n",
    "c1=claculate_area(radius=int(input(\"enter radius of the circle:\")))\n",
    "print(\"area of circle is :\",c1.circle())\n",
    "\n"
   ]
  },
  {
   "cell_type": "code",
   "execution_count": 20,
   "metadata": {},
   "outputs": [
    {
     "name": "stdout",
     "output_type": "stream",
     "text": [
      "Price after discount is: 1600.0\n"
     ]
    }
   ],
   "source": [
    "class calculate_discount:\n",
    "    def __init__(self,sp,discount):\n",
    "        self.sprice=sp\n",
    "        self.dis=float(discount/100)\n",
    "    def price(self):\n",
    "        amount=self.sprice-(self.sprice*self.dis)\n",
    "        return amount\n",
    "r1=calculate_discount(sp=int(input(\"enter selling price of the item:\")),discount=int(input(\"enter discount:\")))\n",
    "print(\"Price after discount is:\",r1.price())"
   ]
  },
  {
   "cell_type": "code",
   "execution_count": 23,
   "metadata": {},
   "outputs": [
    {
     "name": "stdout",
     "output_type": "stream",
     "text": [
      "vowels: 2\n"
     ]
    }
   ],
   "source": [
    "class count_vowel:\n",
    "    def __init__(self,s):\n",
    "        self.str=s\n",
    "    def counter(self):\n",
    "         count = 0\n",
    "         vowels = \"aeiouAEIOU\"\n",
    "         for char in self.str:\n",
    "            if char in vowels:\n",
    "                count += 1\n",
    "         return count\n",
    "l1=count_vowel(s=input(\"enter a string:\"))\n",
    "store=l1.counter()\n",
    "print(\"vowels:\",store)"
   ]
  },
  {
   "cell_type": "code",
   "execution_count": null,
   "metadata": {},
   "outputs": [],
   "source": []
  }
 ],
 "metadata": {
  "kernelspec": {
   "display_name": "Python 3",
   "language": "python",
   "name": "python3"
  },
  "language_info": {
   "codemirror_mode": {
    "name": "ipython",
    "version": 3
   },
   "file_extension": ".py",
   "mimetype": "text/x-python",
   "name": "python",
   "nbconvert_exporter": "python",
   "pygments_lexer": "ipython3",
   "version": "3.12.3"
  }
 },
 "nbformat": 4,
 "nbformat_minor": 2
}
